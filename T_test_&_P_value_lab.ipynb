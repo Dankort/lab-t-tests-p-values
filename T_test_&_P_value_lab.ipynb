{
  "nbformat": 4,
  "nbformat_minor": 0,
  "metadata": {
    "colab": {
      "provenance": [],
      "authorship_tag": "ABX9TyPFhM72Tw427oACd6gv27xX",
      "include_colab_link": true
    },
    "kernelspec": {
      "name": "python3",
      "display_name": "Python 3"
    },
    "language_info": {
      "name": "python"
    }
  },
  "cells": [
    {
      "cell_type": "markdown",
      "metadata": {
        "id": "view-in-github",
        "colab_type": "text"
      },
      "source": [
        "<a href=\"https://colab.research.google.com/github/Dankort/lab-t-tests-p-values/blob/master/T_test_%26_P_value_lab.ipynb\" target=\"_parent\"><img src=\"https://colab.research.google.com/assets/colab-badge.svg\" alt=\"Open In Colab\"/></a>"
      ]
    },
    {
      "cell_type": "code",
      "source": [
        "import numpy as np\n",
        "from scipy.stats import ttest_ind\n",
        "\n",
        "# Data\n",
        "new_machine = [42.1, 41, 41.3, 41.8, 42.4, 42.8, 43.2, 42.3, 41.8, 42.7]\n",
        "old_machine = [42.7, 43.6, 43.8, 43.3, 42.5, 43.5, 43.1, 41.7, 44, 44.1]\n",
        "\n",
        "# Perform the one-sided two-sample t-test (pooled)\n",
        "t_statistic, p_value = ttest_ind(new_machine, old_machine, alternative='less', equal_var=True)\n",
        "\n",
        "# Define the significance level\n",
        "alpha = 0.05\n",
        "\n",
        "# Print the results\n",
        "print(\"T-statistic:\", t_statistic)\n",
        "print(\"P-value:\", p_value)\n",
        "\n",
        "# Compare p-value with significance level\n",
        "if p_value < alpha:\n",
        "    print(\"Reject the null hypothesis. There is sufficient evidence to show that the new machine packs faster than the old machine.\")\n",
        "else:\n",
        "    print(\"Fail to reject the null hypothesis. There is not enough evidence to show that the new machine packs faster than the old machine.\")\n"
      ],
      "metadata": {
        "colab": {
          "base_uri": "https://localhost:8080/"
        },
        "id": "t2IWgt3al1FH",
        "outputId": "06d0020b-1eea-4f88-f2cd-e76e47be5159"
      },
      "execution_count": 6,
      "outputs": [
        {
          "output_type": "stream",
          "name": "stdout",
          "text": [
            "T-statistic: -3.3972307061176026\n",
            "P-value: 0.0016055712503872579\n",
            "Reject the null hypothesis. There is sufficient evidence to show that the new machine packs faster than the old machine.\n"
          ]
        }
      ]
    },
    {
      "cell_type": "code",
      "source": [
        "ttest_ind(new_machine, old_machine)"
      ],
      "metadata": {
        "colab": {
          "base_uri": "https://localhost:8080/"
        },
        "id": "H_Bo309soRCz",
        "outputId": "b06d2b14-1ee5-4eed-a359-299811f8732f"
      },
      "execution_count": 7,
      "outputs": [
        {
          "output_type": "execute_result",
          "data": {
            "text/plain": [
              "TtestResult(statistic=-3.3972307061176026, pvalue=0.0032111425007745158, df=18.0)"
            ]
          },
          "metadata": {},
          "execution_count": 7
        }
      ]
    }
  ]
}